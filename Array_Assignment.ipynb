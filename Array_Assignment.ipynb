{
 "cells": [
  {
   "cell_type": "markdown",
   "id": "0dacdb6f",
   "metadata": {},
   "source": [
    "1)1. Given an array, check if it contains any duplicates or not.\n",
    "arr = [1, 2, 4, 2, 5, 9]\n",
    "Output = True"
   ]
  },
  {
   "cell_type": "code",
   "execution_count": 1,
   "id": "6e3c4f3b",
   "metadata": {},
   "outputs": [
    {
     "name": "stdout",
     "output_type": "stream",
     "text": [
      "True\n"
     ]
    }
   ],
   "source": [
    "arr = [1, 2, 4, 2, 5, 9]\n",
    "\n",
    "def contains_duplicates(nums):\n",
    "    return len(nums) != len(set(nums))\n",
    "\n",
    "output = contains_duplicates(arr)\n",
    "print(output)  # Output will be True since the array contains duplicates\n"
   ]
  },
  {
   "cell_type": "code",
   "execution_count": 2,
   "id": "ea828527",
   "metadata": {},
   "outputs": [
    {
     "name": "stdout",
     "output_type": "stream",
     "text": [
      "True\n"
     ]
    }
   ],
   "source": [
    "arr = [1, 2, 4, 2, 5, 9]\n",
    "\n",
    "def contains_duplicates(nums):\n",
    "    seen = {}\n",
    "    for num in nums:\n",
    "        if num in seen:\n",
    "            return True\n",
    "        seen[num] = True\n",
    "    return False\n",
    "\n",
    "output = contains_duplicates(arr)\n",
    "print(output)  # Output will be True since the array contains duplicates\n"
   ]
  },
  {
   "cell_type": "markdown",
   "id": "1d7798ab",
   "metadata": {},
   "source": [
    "2. Given an array and an integer k, rotate the array to the right by k steps.\n",
    "arr = [1, 2, 3, 4, 5, 6, 7] k = 3\n",
    "Output = [5, 6, 7, 1, 2, 3, 4]"
   ]
  },
  {
   "cell_type": "code",
   "execution_count": 3,
   "id": "1055b52d",
   "metadata": {},
   "outputs": [
    {
     "name": "stdout",
     "output_type": "stream",
     "text": [
      "[5, 6, 7, 1, 2, 3, 4]\n"
     ]
    }
   ],
   "source": [
    "arr = [1, 2, 3, 4, 5, 6, 7]\n",
    "k = 3\n",
    "\n",
    "def rotate_array(nums, k):\n",
    "    n = len(nums)\n",
    "    k = k % n  # Ensure k is within the length of the array\n",
    "\n",
    "    # Rotate the array\n",
    "    nums[:] = nums[n - k:] + nums[:n - k]\n",
    "\n",
    "rotate_array(arr, k)\n",
    "print(arr)  # Output will be [5, 6, 7, 1, 2, 3, 4]\n"
   ]
  },
  {
   "cell_type": "markdown",
   "id": "13a0aecf",
   "metadata": {},
   "source": [
    "3. Reverse the given array in-place, means without using any extra data structure.\n",
    "arr = [2, 4, 5, 7, 9, 12]\n",
    "Output = [12, 9, 7, 5, 4, 2]"
   ]
  },
  {
   "cell_type": "code",
   "execution_count": 4,
   "id": "56672bbf",
   "metadata": {},
   "outputs": [
    {
     "name": "stdout",
     "output_type": "stream",
     "text": [
      "[12, 9, 7, 5, 4, 2]\n"
     ]
    }
   ],
   "source": [
    "arr = [2, 4, 5, 7, 9, 12]\n",
    "\n",
    "def reverse_array(nums):\n",
    "    nums[:] = nums[::-1]\n",
    "\n",
    "reverse_array(arr)\n",
    "print(arr)  # Output will be [12, 9, 7, 5, 4, 2]\n"
   ]
  },
  {
   "cell_type": "markdown",
   "id": "8cc951ff",
   "metadata": {},
   "source": [
    "4. Given an array of integers, find the maximum element in an array\n",
    "arr = [10, 5, 20, 8, 15]\n",
    "Output = 20"
   ]
  },
  {
   "cell_type": "code",
   "execution_count": 5,
   "id": "6f513864",
   "metadata": {},
   "outputs": [
    {
     "name": "stdout",
     "output_type": "stream",
     "text": [
      "20\n"
     ]
    }
   ],
   "source": [
    "arr = [10, 5, 20, 8, 15]\n",
    "\n",
    "def find_max(nums):\n",
    "    return max(nums)\n",
    "\n",
    "output = find_max(arr)\n",
    "print(output)  # Output will be 20\n"
   ]
  },
  {
   "cell_type": "markdown",
   "id": "835a88b1",
   "metadata": {},
   "source": [
    "5. Given a sorted array, remove the duplicate element without using any extra data structure.\n",
    "arr = [1, 1, 2, 2, 2, 3, 3, 4, 4, 4, 5, 5]\n",
    "Output = [1, 2, 3, 4, 5]"
   ]
  },
  {
   "cell_type": "code",
   "execution_count": 6,
   "id": "0569cd2f",
   "metadata": {},
   "outputs": [
    {
     "name": "stdout",
     "output_type": "stream",
     "text": [
      "[1, 2, 3, 4, 5]\n"
     ]
    }
   ],
   "source": [
    "arr = [1, 1, 2, 2, 2, 3, 3, 4, 4, 4, 5, 5]\n",
    "\n",
    "def remove_duplicates(nums):\n",
    "    if not nums:\n",
    "        return 0\n",
    "\n",
    "    # Initialize pointer to track the position to overwrite\n",
    "    position = 1\n",
    "\n",
    "    for i in range(1, len(nums)):\n",
    "        # If the current element is different from the previous non-duplicate element\n",
    "        if nums[i] != nums[i - 1]:\n",
    "            nums[position] = nums[i]\n",
    "            position += 1\n",
    "\n",
    "    return position\n",
    "\n",
    "# Modify the array in-place to remove duplicates\n",
    "length = remove_duplicates(arr)\n",
    "print(arr[:length])  # Output will be [1, 2, 3, 4, 5]\n"
   ]
  },
  {
   "cell_type": "code",
   "execution_count": null,
   "id": "aaa698d6",
   "metadata": {},
   "outputs": [],
   "source": []
  }
 ],
 "metadata": {
  "kernelspec": {
   "display_name": "Python 3 (ipykernel)",
   "language": "python",
   "name": "python3"
  },
  "language_info": {
   "codemirror_mode": {
    "name": "ipython",
    "version": 3
   },
   "file_extension": ".py",
   "mimetype": "text/x-python",
   "name": "python",
   "nbconvert_exporter": "python",
   "pygments_lexer": "ipython3",
   "version": "3.10.9"
  }
 },
 "nbformat": 4,
 "nbformat_minor": 5
}
